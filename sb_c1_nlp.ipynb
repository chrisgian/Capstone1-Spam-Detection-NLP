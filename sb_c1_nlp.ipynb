{
 "cells": [
  {
   "cell_type": "markdown",
   "metadata": {},
   "source": [
    "## Setting up "
   ]
  },
  {
   "cell_type": "code",
   "execution_count": 1,
   "metadata": {
    "collapsed": false,
    "scrolled": true
   },
   "outputs": [
    {
     "name": "stderr",
     "output_type": "stream",
     "text": [
      "Slow version of gensim.models.doc2vec is being used\n"
     ]
    }
   ],
   "source": [
    "import pandas as pd\n",
    "import numpy as np\n",
    "import warnings\n",
    "warnings.filterwarnings(action='ignore', category=UserWarning, module='gensim')\n",
    "import gensim as gs\n",
    "import slugify as sg\n",
    "import nltk\n"
   ]
  },
  {
   "cell_type": "code",
   "execution_count": 2,
   "metadata": {
    "collapsed": false
   },
   "outputs": [],
   "source": [
    "data = pd.read_table('SMSSpamCollection',header= None, names = ('outcome', 'content'))"
   ]
  },
  {
   "cell_type": "markdown",
   "metadata": {},
   "source": [
    "### 1. Feature Selection"
   ]
  },
  {
   "cell_type": "code",
   "execution_count": 3,
   "metadata": {
    "collapsed": false,
    "scrolled": true
   },
   "outputs": [],
   "source": [
    "# lower case it\n",
    "clean = data[\"content\"] = list(data[\"content\"].str.lower())\n",
    "\n",
    "# stopwords setup\n",
    "words_to_remove = set('for a of the and to in or'.split())\n",
    "# words_to_remove = set(nltk.corpus.stopwords.words('english'))\n",
    "\n",
    "# this will tokenize\n",
    "clean = [[word for word in document.split()] for document in clean]\n",
    "\n",
    "from re import sub # import sub to replace items in the followiong list comprehension\n",
    "x = [[sub(pattern='[a-z0-9]',repl='', string=w) for w in x] for x in clean] # remove all regular alphanumeric and integers\n",
    "x = set([item for sublist in x for item in sublist]) # list comp. to flatten\n",
    "x = set(list(''.join(x))) # first, concatenate all characters, then use list to separate, then set to gain uniques\n",
    "x = '\\\\'+'|\\\\'.join(x)\n"
   ]
  },
  {
   "cell_type": "code",
   "execution_count": 4,
   "metadata": {
    "collapsed": false
   },
   "outputs": [],
   "source": [
    "# remove symbols\n",
    "# improvement: \"raw\" by r\"... will let you use any characters inside the pattern argument.\n",
    "clean = [[sub(x,'',word) for word in text] for text in clean]\n",
    "# remove common words\n",
    "clean = [[word for word in document if word not in words_to_remove] for document in clean]\n"
   ]
  },
  {
   "cell_type": "code",
   "execution_count": 5,
   "metadata": {
    "collapsed": false
   },
   "outputs": [],
   "source": [
    "# Count Freqs\n",
    "\n",
    "from collections import defaultdict\n",
    "frequency = defaultdict(int)\n",
    "for text in clean:\n",
    "    for token in text:\n",
    "        frequency[token] += 1\n",
    "\n",
    "# get freq > 1\n",
    "clean = [[x for x in words if frequency[x] > 1] for words in clean]\n",
    "\n"
   ]
  },
  {
   "cell_type": "markdown",
   "metadata": {},
   "source": [
    "### 3. Create Dictionary "
   ]
  },
  {
   "cell_type": "code",
   "execution_count": 6,
   "metadata": {
    "collapsed": false
   },
   "outputs": [
    {
     "data": {
      "text/plain": [
       "[(6, 1), (27, 1), (30, 1), (74, 1), (143, 1), (148, 1), (346, 1)]"
      ]
     },
     "execution_count": 6,
     "metadata": {},
     "output_type": "execute_result"
    }
   ],
   "source": [
    "dictionary = gs.corpora.Dictionary(clean)\n",
    "# test\n",
    "dictionary.doc2bow(\"'for a of the and to in or\".split())\n",
    "\n"
   ]
  },
  {
   "cell_type": "markdown",
   "metadata": {},
   "source": [
    "### 4. Create Corpus"
   ]
  },
  {
   "cell_type": "code",
   "execution_count": 7,
   "metadata": {
    "collapsed": false
   },
   "outputs": [],
   "source": [
    "corpus = [dictionary.doc2bow(text) for text in clean]"
   ]
  },
  {
   "cell_type": "markdown",
   "metadata": {
    "collapsed": false
   },
   "source": [
    "### 5. Create xform"
   ]
  },
  {
   "cell_type": "code",
   "execution_count": 8,
   "metadata": {
    "collapsed": true
   },
   "outputs": [],
   "source": [
    "tfidf = gs.models.TfidfModel(corpus) \n",
    "corp_tf = tfidf[corpus] "
   ]
  },
  {
   "cell_type": "code",
   "execution_count": 9,
   "metadata": {
    "collapsed": false
   },
   "outputs": [],
   "source": [
    "lsi = gs.models.LsiModel(corp_tf, id2word=dictionary, num_topics = 300)\n",
    "corp_topics = lsi[corp_tf] "
   ]
  },
  {
   "cell_type": "markdown",
   "metadata": {},
   "source": [
    "### create dataframe"
   ]
  },
  {
   "cell_type": "code",
   "execution_count": 10,
   "metadata": {
    "collapsed": false
   },
   "outputs": [
    {
     "name": "stderr",
     "output_type": "stream",
     "text": [
      "C:\\Users\\Cglan\\AppData\\Local\\Continuum\\Anaconda3\\lib\\site-packages\\sklearn\\lda.py:6: DeprecationWarning: lda.LDA has been moved to discriminant_analysis.LinearDiscriminantAnalysis in 0.17 and will be removed in 0.19\n",
      "  \"in 0.17 and will be removed in 0.19\", DeprecationWarning)\n"
     ]
    }
   ],
   "source": [
    "# training and test set\n",
    "X = pd.DataFrame([dict(row) for row in corp_topics]) \n",
    "Y = (data[\"outcome\"] == \"spam\").astype(int) \n",
    "from sklearn.lda import LDA\n",
    "lda = LDA()\n",
    "mask = np.array([~np.isnan(row).any() for row in X.values])\n",
    "lda = lda.fit(X[mask], Y[mask])"
   ]
  },
  {
   "cell_type": "code",
   "execution_count": 11,
   "metadata": {
    "collapsed": false,
    "scrolled": true
   },
   "outputs": [
    {
     "data": {
      "text/plain": [
       "0.97770986877584043"
      ]
     },
     "execution_count": 11,
     "metadata": {},
     "output_type": "execute_result"
    }
   ],
   "source": [
    "\n",
    "sum(lda.predict(X[mask]) == Y[mask])/len(Y[mask]) "
   ]
  },
  {
   "cell_type": "code",
   "execution_count": 12,
   "metadata": {
    "collapsed": false
   },
   "outputs": [
    {
     "data": {
      "text/plain": [
       "array([0, 1, 0, 1, 1, 0])"
      ]
     },
     "execution_count": 12,
     "metadata": {},
     "output_type": "execute_result"
    }
   ],
   "source": [
    "new_doc = [\"hey dude where are you\",\n",
    "           \"text 444 for a promotional treat\",\n",
    "           \"dont know what time it is\", \n",
    "           \"Our records indicate your Pension is under performing to see higher growth and up to 25% cash release reply PENSION for a free review. To opt out reply STOP\",\n",
    "          \"To start the process please reply YES. To opt out text STOP\",\n",
    "          \"i'm going to be 10 mins late\"]\n",
    "\n",
    "new_doc = [sub(x,'',str.lower(line)) for line in new_doc]\n",
    "\n",
    "query = [[new_word for new_word in document.split()] for document in new_doc]\n",
    "query_bow = [dictionary.doc2bow(corp) for corp in query]\n",
    "query_tf = tfidf[query_bow] \n",
    "x_2 = pd.DataFrame([dict(tf) for tf in lsi[query_tf]])\n",
    "lda.predict(x_2)"
   ]
  },
  {
   "cell_type": "code",
   "execution_count": 13,
   "metadata": {
    "collapsed": true
   },
   "outputs": [],
   "source": [
    "#%qtconsole"
   ]
  }
 ],
 "metadata": {
  "kernelspec": {
   "display_name": "Python 3",
   "language": "python",
   "name": "python3"
  },
  "language_info": {
   "codemirror_mode": {
    "name": "ipython",
    "version": 3
   },
   "file_extension": ".py",
   "mimetype": "text/x-python",
   "name": "python",
   "nbconvert_exporter": "python",
   "pygments_lexer": "ipython3",
   "version": "3.6.0"
  }
 },
 "nbformat": 4,
 "nbformat_minor": 2
}
