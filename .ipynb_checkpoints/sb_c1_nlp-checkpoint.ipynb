{
 "cells": [
  {
   "cell_type": "markdown",
   "metadata": {},
   "source": [
    "## Setting up "
   ]
  },
  {
   "cell_type": "code",
   "execution_count": 1,
   "metadata": {
    "collapsed": false,
    "scrolled": true
   },
   "outputs": [
    {
     "name": "stderr",
     "output_type": "stream",
     "text": [
      "Slow version of gensim.models.doc2vec is being used\n"
     ]
    }
   ],
   "source": [
    "import pandas as pd\n",
    "import numpy as np\n",
    "import warnings\n",
    "warnings.filterwarnings(action='ignore', category=UserWarning, module='gensim')\n",
    "import gensim as gs\n",
    "import slugify as sg\n",
    "#%qtconsole\n"
   ]
  },
  {
   "cell_type": "code",
   "execution_count": 2,
   "metadata": {
    "collapsed": false
   },
   "outputs": [],
   "source": [
    "data = pd.read_table('SMSSpamCollection',header= None, names = ('outcome', 'content'))"
   ]
  },
  {
   "cell_type": "markdown",
   "metadata": {},
   "source": [
    "### 2. clean up, remove common words and 1 time words"
   ]
  },
  {
   "cell_type": "code",
   "execution_count": 3,
   "metadata": {
    "collapsed": false,
    "scrolled": true
   },
   "outputs": [],
   "source": [
    "# lower case it\n",
    "clean = data[\"content\"] = list(data[\"content\"].str.lower())\n",
    "\n",
    "# set up to remove common words #\n",
    "words_to_remove = set('for a of the and to in or'.split())\n",
    "\n",
    "clean = [[word for word in document.split()] for document in clean]\n",
    "\n"
   ]
  },
  {
   "cell_type": "code",
   "execution_count": 4,
   "metadata": {
    "collapsed": false
   },
   "outputs": [],
   "source": [
    "# Extract Unique Characters ( work in progress)\n",
    "from re import sub # import sub to replace items in the followiong list comprehension\n",
    "x = [[sub(pattern='[a-z0-9]',repl='', string=w) for w in x] for x in clean] # remove all regular alphanumeric and integers\n",
    "x = set([item for sublist in x for item in sublist]) # list comp. to flatten\n",
    "x = set(list(''.join(x))) # first, concatenate all characters, then use list to separate, then set to gain uniques"
   ]
  },
  {
   "cell_type": "code",
   "execution_count": 5,
   "metadata": {
    "collapsed": false
   },
   "outputs": [],
   "source": [
    "# remove symbols\n",
    "clean = [[sub('\\\\'+'|\\\\'.join(x),'',word) for word in text] for text in clean]\n",
    "# remove common words\n",
    "clean = [[word for word in document if word not in words_to_remove] for document in clean]"
   ]
  },
  {
   "cell_type": "code",
   "execution_count": 6,
   "metadata": {
    "collapsed": false
   },
   "outputs": [],
   "source": [
    "# Count Freqs\n",
    "from collections import defaultdict\n",
    "frequency = defaultdict(int)\n",
    "for text in clean:\n",
    "    for token in text:\n",
    "        frequency[token] += 1\n",
    "\n",
    "# get freq > 1\n",
    "clean = [[x for x in words if frequency[x] > 1] for words in clean]\n",
    "\n"
   ]
  },
  {
   "cell_type": "markdown",
   "metadata": {},
   "source": [
    "### 3. Create Dictionary "
   ]
  },
  {
   "cell_type": "code",
   "execution_count": 7,
   "metadata": {
    "collapsed": false
   },
   "outputs": [
    {
     "data": {
      "text/plain": [
       "[]"
      ]
     },
     "execution_count": 7,
     "metadata": {},
     "output_type": "execute_result"
    }
   ],
   "source": [
    "dictionary = gs.corpora.Dictionary(clean)\n",
    "# test\n",
    "dictionary.doc2bow(\"'for a of the and to in or\".split())\n",
    "\n"
   ]
  },
  {
   "cell_type": "markdown",
   "metadata": {},
   "source": [
    "### 4. Create Corpus"
   ]
  },
  {
   "cell_type": "code",
   "execution_count": 8,
   "metadata": {
    "collapsed": false
   },
   "outputs": [],
   "source": [
    "corpus = [dictionary.doc2bow(text) for text in clean]"
   ]
  },
  {
   "cell_type": "markdown",
   "metadata": {
    "collapsed": false
   },
   "source": [
    "### 5. Create xform"
   ]
  },
  {
   "cell_type": "code",
   "execution_count": 9,
   "metadata": {
    "collapsed": true
   },
   "outputs": [],
   "source": [
    "tfidf = gs.models.TfidfModel(corpus) \n",
    "corp_tf = tfidf[corpus] "
   ]
  },
  {
   "cell_type": "code",
   "execution_count": 10,
   "metadata": {
    "collapsed": false
   },
   "outputs": [],
   "source": [
    "lsi = gs.models.LsiModel(corp_tf, id2word=dictionary, num_topics = 300)\n",
    "corp_tf = lsi[corp_tf] "
   ]
  }
 ],
 "metadata": {
  "kernelspec": {
   "display_name": "Python 3",
   "language": "python",
   "name": "python3"
  },
  "language_info": {
   "codemirror_mode": {
    "name": "ipython",
    "version": 3
   },
   "file_extension": ".py",
   "mimetype": "text/x-python",
   "name": "python",
   "nbconvert_exporter": "python",
   "pygments_lexer": "ipython3",
   "version": "3.6.0"
  }
 },
 "nbformat": 4,
 "nbformat_minor": 2
}
